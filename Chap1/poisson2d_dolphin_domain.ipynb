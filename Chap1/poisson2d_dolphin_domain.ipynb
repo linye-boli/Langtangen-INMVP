{
 "cells": [
  {
   "cell_type": "markdown",
   "id": "a144be11-46d0-4002-ac17-d6a719609540",
   "metadata": {},
   "source": [
    "# Quick Overview of the Finite Element Method"
   ]
  },
  {
   "cell_type": "markdown",
   "id": "abe88d88-0d24-49dc-af6a-6c5e0efc0079",
   "metadata": {},
   "source": [
    "Consider solving the following PDE by **finite element method**  \n",
    "$$\n",
    "\\begin{align}\n",
    "-\\nabla^2 u(x) &= f(x), \\quad x \\in \\Omega \\\\\n",
    "u(x) &= g(x), \\quad x \\in \\partial \\Omega\n",
    "\\end{align}\n",
    "$$\n",
    "where $f$ is known, $u$ is unknown, $\\Omega$ is the compuational domain, which is the union of finite elements $\\Omega = \\cup_e \\Omega_e$.\n",
    "\n",
    "- Represent the solution $u$ by the summation\n",
    "  $$u = \\sum_{i=0}^{N} c_i \\psi_i(x),$$\n",
    "  where $\\psi_i(x)$ are the basis functions, which is often  called the **trial function**\n",
    "- Convert PDE to variational form by multiply a **test function** $v$ and integrate over an element $\\Omega_e$\n",
    "  $$\\int_{\\Omega_e} - \\nabla^2 uv \\mathrm{d} x = \\int_{\\Omega_e} \\nabla u \\nabla v \\mathrm{d} x - \\int_{\\partial \\Omega_e} \\frac{\\partial u}{\\partial n} v \\mathrm{d} S = \\int_{\\Omega_e} fv \\mathrm{d} x$$\n",
    "  "
   ]
  },
  {
   "cell_type": "code",
   "execution_count": 2,
   "id": "ee36eb51-161c-4247-8da7-a2b1f9575061",
   "metadata": {},
   "outputs": [],
   "source": [
    "from dolfinx import mesh\n",
    "from dolfinx import fem\n",
    "from mpi4py import MPI"
   ]
  },
  {
   "cell_type": "code",
   "execution_count": 12,
   "id": "17a81978-ff98-4c16-9291-39209e08365d",
   "metadata": {},
   "outputs": [
    {
     "ename": "TypeError",
     "evalue": "DirichletBC.__init__() takes 2 positional arguments but 4 were given",
     "output_type": "error",
     "traceback": [
      "\u001b[0;31m---------------------------------------------------------------------------\u001b[0m",
      "\u001b[0;31mTypeError\u001b[0m                                 Traceback (most recent call last)",
      "Cell \u001b[0;32mIn[12], line 12\u001b[0m\n\u001b[1;32m      9\u001b[0m V \u001b[38;5;241m=\u001b[39m fem\u001b[38;5;241m.\u001b[39mFunctionSpace(msh, (\u001b[38;5;124m'\u001b[39m\u001b[38;5;124mLagrange\u001b[39m\u001b[38;5;124m'\u001b[39m,\u001b[38;5;241m1\u001b[39m))\n\u001b[1;32m     11\u001b[0m \u001b[38;5;66;03m# set boundary condition \u001b[39;00m\n\u001b[0;32m---> 12\u001b[0m bc \u001b[38;5;241m=\u001b[39m \u001b[43mfem\u001b[49m\u001b[38;5;241;43m.\u001b[39;49m\u001b[43mDirichletBC\u001b[49m\u001b[43m(\u001b[49m\u001b[43mV\u001b[49m\u001b[43m,\u001b[49m\u001b[43m \u001b[49m\u001b[38;5;241;43m0\u001b[39;49m\u001b[43m,\u001b[49m\u001b[43m \u001b[49m\u001b[38;5;124;43m'\u001b[39;49m\u001b[38;5;124;43mon_boundary\u001b[39;49m\u001b[38;5;124;43m'\u001b[39;49m\u001b[43m)\u001b[49m\n",
      "\u001b[0;31mTypeError\u001b[0m: DirichletBC.__init__() takes 2 positional arguments but 4 were given"
     ]
    }
   ],
   "source": [
    "# create a rectangular domain $[-1,1] \\times [-1,1]$\n",
    "msh = mesh.create_rectangle(\n",
    "    comm=MPI.COMM_WORLD, \n",
    "    points = ((-1.0,-1.0), (1.0, 1.0)),\n",
    "    n = (10,10),\n",
    "    cell_type=mesh.CellType.triangle)\n",
    "\n",
    "# create a finite element function space\n",
    "V = fem.FunctionSpace(msh, ('Lagrange',1))\n",
    "\n",
    "# set boundary condition \n",
    "bc = fem.DirichletBC(0, , V)"
   ]
  },
  {
   "cell_type": "code",
   "execution_count": 14,
   "id": "379ae2e1-b7d2-45c2-9305-c859ca05e672",
   "metadata": {},
   "outputs": [
    {
     "data": {
      "text/plain": [
       "\u001b[0;31mInit signature:\u001b[0m \u001b[0mfem\u001b[0m\u001b[0;34m.\u001b[0m\u001b[0mDirichletBC\u001b[0m\u001b[0;34m(\u001b[0m\u001b[0mbc\u001b[0m\u001b[0;34m)\u001b[0m\u001b[0;34m\u001b[0m\u001b[0;34m\u001b[0m\u001b[0m\n",
       "\u001b[0;31mDocstring:\u001b[0m      <no docstring>\n",
       "\u001b[0;31mInit docstring:\u001b[0m\n",
       "Representation of Dirichlet boundary condition which is imposed on\n",
       "a linear system.\n",
       "\n",
       "Note:\n",
       "    Dirichlet boundary conditions  should normally be\n",
       "    constructed using :func:`fem.dirichletbc` and not using this\n",
       "    class initialiser. This class is combined with different\n",
       "    base classes that depend on the scalar type of the boundary\n",
       "    condition.\n",
       "\n",
       "Args:\n",
       "    value: Lifted boundary values function.\n",
       "    dofs: Local indices of degrees of freedom in function space to which\n",
       "        boundary condition applies. Expects array of size (number of\n",
       "        dofs, 2) if function space of the problem, ``V`` is passed.\n",
       "        Otherwise assumes function space of the problem is the same\n",
       "        of function space of boundary values function.\n",
       "    V: Function space of a problem to which boundary conditions are applied.\n",
       "\u001b[0;31mFile:\u001b[0m           ~/anaconda3/envs/fenicsx-env/lib/python3.12/site-packages/dolfinx/fem/bcs.py\n",
       "\u001b[0;31mType:\u001b[0m           type\n",
       "\u001b[0;31mSubclasses:\u001b[0m     "
      ]
     },
     "metadata": {},
     "output_type": "display_data"
    }
   ],
   "source": [
    "?fem.DirichletBC"
   ]
  },
  {
   "cell_type": "code",
   "execution_count": null,
   "id": "d6e8f0d8-c48c-408c-b09c-68cd4f94f8aa",
   "metadata": {},
   "outputs": [],
   "source": []
  }
 ],
 "metadata": {
  "kernelspec": {
   "display_name": "fenicsx",
   "language": "python",
   "name": "fenicsx"
  },
  "language_info": {
   "codemirror_mode": {
    "name": "ipython",
    "version": 3
   },
   "file_extension": ".py",
   "mimetype": "text/x-python",
   "name": "python",
   "nbconvert_exporter": "python",
   "pygments_lexer": "ipython3",
   "version": "3.12.1"
  }
 },
 "nbformat": 4,
 "nbformat_minor": 5
}
