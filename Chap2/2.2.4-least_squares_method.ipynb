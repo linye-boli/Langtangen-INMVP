{
 "cells": [
  {
   "cell_type": "code",
   "execution_count": 2,
   "id": "288056e8-df39-4b93-bdfe-815e68dd0408",
   "metadata": {},
   "outputs": [],
   "source": [
    "import sympy as sym\n",
    "import mpmath\n",
    "import numpy as np\n",
    "import matplotlib.pyplot as plt"
   ]
  },
  {
   "cell_type": "markdown",
   "id": "8dd754fe-c3bc-48d0-8cdb-b8266acac349",
   "metadata": {},
   "source": [
    "# Symbolic Integration\n",
    "\n",
    "the classical \"pen and paper\" way to calculate the integral"
   ]
  },
  {
   "cell_type": "markdown",
   "id": "b573cda4-452c-4901-9917-91bc0404c41e",
   "metadata": {},
   "source": [
    "### indefinite integral(antiderivative)\n",
    "\n",
    "Given $F' = f$, where $F$ is the antiderivative of $f$\n",
    "\n",
    "- Remark : $\\int_{a}^{b} f(x) \\mathrm{d} x = F(b) - F(a)$\n",
    "\n",
    "e.g. $\\sin(x)$ is the antiderivative of $\\cos(x)$"
   ]
  },
  {
   "cell_type": "code",
   "execution_count": 5,
   "id": "d83f628e-fc5f-48e4-a35d-3afb8d160e8e",
   "metadata": {},
   "outputs": [
    {
     "data": {
      "text/latex": [
       "$\\displaystyle \\sin{\\left(x \\right)}$"
      ],
      "text/plain": [
       "sin(x)"
      ]
     },
     "execution_count": 5,
     "metadata": {},
     "output_type": "execute_result"
    }
   ],
   "source": [
    "x = sym.symbols('x')\n",
    "sym.integrate(sym.cos(x), x)"
   ]
  },
  {
   "cell_type": "markdown",
   "id": "7cf729a1-6108-4321-81ed-40d00ae181a4",
   "metadata": {},
   "source": [
    "### definite integral\n",
    "\n",
    "$$F = \\int_{a}^{b} f(x) \\mathrm{d} x,$$ \n",
    "where $F$ is the definite integral, $a$ is lower limit, $b$ is upper limit, and $x$ is the integration variable."
   ]
  },
  {
   "cell_type": "markdown",
   "id": "63dd0faf-a2a2-4b8b-bcde-c842d88b57fa",
   "metadata": {},
   "source": [
    "e.g. $\\int_{-\\frac{\\pi}{2}}^{\\frac{\\pi}{2}} \\cos(x) \\mathrm{d} x$"
   ]
  },
  {
   "cell_type": "code",
   "execution_count": 8,
   "id": "f304699a-18c9-4431-b5f2-35d495dfc093",
   "metadata": {},
   "outputs": [
    {
     "data": {
      "text/latex": [
       "$\\displaystyle 2$"
      ],
      "text/plain": [
       "2"
      ]
     },
     "execution_count": 8,
     "metadata": {},
     "output_type": "execute_result"
    }
   ],
   "source": [
    "sym.integrate(sym.cos(x), (x,-sym.pi/2,sym.pi/2))"
   ]
  },
  {
   "cell_type": "code",
   "execution_count": 9,
   "id": "b34300dc-4a8c-47e3-9558-6d8785adf9bf",
   "metadata": {},
   "outputs": [
    {
     "data": {
      "text/latex": [
       "$\\displaystyle 2$"
      ],
      "text/plain": [
       "2"
      ]
     },
     "execution_count": 9,
     "metadata": {},
     "output_type": "execute_result"
    }
   ],
   "source": [
    "# verify by antiderivative\n",
    "a, b = sym.symbols('a b')\n",
    "expr = sym.sin(b) - sym.sin(a)\n",
    "expr.subs([(a, -sym.pi/2), (b, sym.pi/2)])"
   ]
  },
  {
   "cell_type": "markdown",
   "id": "b3238ee5-4bf4-40ef-8edf-61dcb8cfc91b",
   "metadata": {},
   "source": [
    "# Linear Approximation\n",
    "\n",
    "approximate $f(x) = 10(x-1)^2 - 1, x\\in[1,2]$ by $u(x) \\in V$, where $V=\\text{span} \\{1, x\\}$. Specifically, $u(x) = c_0 \\psi_0(x) + c_1 \\psi_1(x)$, where $\\psi_0(x) = 1$ and $\\psi_1(x)=x$."
   ]
  },
  {
   "cell_type": "markdown",
   "id": "39bb9e66-9744-4bd5-af17-d4d8fe1a93f9",
   "metadata": {},
   "source": [
    "## Least square method \n",
    "\n",
    "- express $u(x) = \\sum_{i=0}^{N} c_i \\psi_i(x)$, where $N$ is the number of basis functions\n",
    "- solve $\\{c_i\\}_{i=0}^{N}$ by minimizing $E = \\|f-u\\|^2 = (f-u, f-u)$ through setting $\\frac{\\partial E}{\\partial c_i} = 0$\n",
    "\n",
    "Finally we get following\n",
    "\n",
    "$$ \\sum_{j=0}^{N}c_i(\\psi_j, \\psi_i) = (f, \\psi_i)$$\n",
    "\n",
    "if we denotes $A_{i,j}=(\\psi_i, \\psi_j)$, and $b_i=(f, \\psi_i)$, then we get the following linear system\n",
    "\n",
    "$$\n",
    "\\begin{bmatrix}\n",
    "A_{0,0} & \\cdots & A_{0,N} \\\\\n",
    "\\vdots & \\ddots & \\vdots \\\\\n",
    "A_{N,0} & \\cdots & A_{N,N} \\\\\n",
    "\\end{bmatrix} \n",
    "\\begin{bmatrix}\n",
    "c_{0} \\\\\n",
    "\\vdots \\\\\n",
    "c_{N} \\\\\n",
    "\\end{bmatrix} = \n",
    "\\begin{bmatrix}\n",
    "b_{0} \\\\\n",
    "\\vdots \\\\\n",
    "b_{N} \\\\\n",
    "\\end{bmatrix}\n",
    "$$"
   ]
  },
  {
   "cell_type": "code",
   "execution_count": 12,
   "id": "e6c9f843-3506-4bd0-ab36-623adbe345e0",
   "metadata": {},
   "outputs": [],
   "source": [
    "def least_squares_symbolic(f, psi, Omega):\n",
    "    N = len(psi)\n",
    "    A = sym.zeros(N, N)\n",
    "    b = sym.zeros(N, 1)\n",
    "    x = sym.Symbol('x')\n",
    "\n",
    "    # construct A, b\n",
    "    # ! the loop below can be optimized, since A[i,j] = A[j,i]\n",
    "    for i in range(N):\n",
    "        for j in range(N):\n",
    "            A[i,j] = sym.integrate(psi[i]*psi[j], (x, Omega[0], Omega[1]))\n",
    "        b[i,0] = sym.integrate(psi[i]*f, (x, Omega[0], Omega[1]))\n",
    "\n",
    "    # solve Ac = b\n",
    "    c = A.LUsolve(b)\n",
    "    u = 0\n",
    "    for i in range(N):\n",
    "        u += c[i,0]*psi[i]\n",
    "    return u, c"
   ]
  },
  {
   "cell_type": "code",
   "execution_count": 13,
   "id": "ed1aa278-44ef-432b-b66e-c49a8ac7fdc6",
   "metadata": {},
   "outputs": [
    {
     "name": "stdout",
     "output_type": "stream",
     "text": [
      "f :  10*x**2 - 20*x + 9\n",
      "u :  10*x**2 - 20*x + 9\n"
     ]
    }
   ],
   "source": [
    "x = sym.Symbol('x')\n",
    "f = 10*(x-1)**2 - 1\n",
    "u_sym, c = least_squares_symbolic(f=f, psi=[1,x,x**2], Omega=[1,2])\n",
    "print(\"f : \", sym.expand(f))\n",
    "print(\"u : \", u_sym)"
   ]
  },
  {
   "cell_type": "code",
   "execution_count": 14,
   "id": "6fe3a8b8-f279-4a14-9189-3c3e502ce9bd",
   "metadata": {},
   "outputs": [],
   "source": [
    "def least_squares_numeric(f, psi, Omega):\n",
    "    N = len(psi)\n",
    "    A = sym.zeros(N, N)\n",
    "    b = sym.zeros(N, 1)\n",
    "    x = sym.Symbol('x')\n",
    "\n",
    "    # construct A, b\n",
    "    # ! the loop below can be optimized, since A[i,j] = A[j,i]\n",
    "    for i in range(N):\n",
    "        for j in range(N):\n",
    "            integrate = sym.lambdify(x, psi[i]*psi[j], 'mpmath')\n",
    "            A[i,j] = mpmath.quad(integrate, [Omega[0], Omega[1]])\n",
    "\n",
    "        integrate = sym.lambdify(x, psi[i]*f, 'mpmath')\n",
    "        b[i,0] =  mpmath.quad(integrate, [Omega[0], Omega[1]])\n",
    "\n",
    "    # solve Ac = b\n",
    "    c = mpmath.lu_solve(A,b)\n",
    "    u = 0\n",
    "    for i in range(N):\n",
    "        u += c[i,0]*psi[i]\n",
    "    return u, c"
   ]
  },
  {
   "cell_type": "code",
   "execution_count": 15,
   "id": "db9f2dfd-2006-4264-b0ad-fec123de039a",
   "metadata": {},
   "outputs": [
    {
     "name": "stdout",
     "output_type": "stream",
     "text": [
      "f :  10*x**2 - 20*x + 9\n",
      "u :  9.99999999999748*x**2 - 19.9999999999924*x + 8.99999999999446\n"
     ]
    }
   ],
   "source": [
    "x = sym.Symbol('x')\n",
    "f = 10*(x-1)**2 - 1\n",
    "u_num, c = least_squares_numeric(f=f, psi=[1,x,x**2], Omega=[1,2])\n",
    "print(\"f : \", sym.expand(f))\n",
    "print(\"u : \", u_num)"
   ]
  },
  {
   "cell_type": "code",
   "execution_count": 16,
   "id": "85ee8e32-2005-4515-ad3f-9c26cf6ca2a8",
   "metadata": {},
   "outputs": [
    {
     "data": {
      "text/plain": [
       "<matplotlib.legend.Legend at 0x13b920410>"
      ]
     },
     "execution_count": 16,
     "metadata": {},
     "output_type": "execute_result"
    },
    {
     "data": {
      "image/png": "[encoded data removed]",
      "text/plain": [
       "<Figure size 640x480 with 1 Axes>"
      ]
     },
     "metadata": {},
     "output_type": "display_data"
    }
   ],
   "source": [
    "# visualize the result\n",
    "x = sym.Symbol('x')\n",
    "f = sym.lambdify(x, f, 'numpy')\n",
    "u_sym = sym.lambdify(x, u_sym, modules='numpy')\n",
    "u_num = sym.lambdify(x, u_num, modules='numpy')\n",
    "\n",
    "resolution = 401\n",
    "Omega = [1, 2]\n",
    "xcoor = np.linspace(Omega[0], Omega[1], resolution)\n",
    "exact = f(xcoor)\n",
    "approx_sym = u_sym(xcoor)\n",
    "approx_num = u_num(xcoor)\n",
    "\n",
    "plt.plot(xcoor, exact, '-r', label='exact')\n",
    "plt.plot(xcoor, approx_sym, '-b', label='sym')\n",
    "plt.plot(xcoor, approx_num, '-g', label='numeric')\n",
    "plt.legend()"
   ]
  },
  {
   "cell_type": "code",
   "execution_count": null,
   "id": "69b17a5b-5732-4b81-98b5-bbb8bcf9d3f2",
   "metadata": {},
   "outputs": [],
   "source": []
  }
 ],
 "metadata": {
  "kernelspec": {
   "display_name": "Python 3 (ipykernel)",
   "language": "python",
   "name": "python3"
  },
  "language_info": {
   "codemirror_mode": {
    "name": "ipython",
    "version": 3
   },
   "file_extension": ".py",
   "mimetype": "text/x-python",
   "name": "python",
   "nbconvert_exporter": "python",
   "pygments_lexer": "ipython3",
   "version": "3.11.5"
  }
 },
 "nbformat": 4,
 "nbformat_minor": 5
}
