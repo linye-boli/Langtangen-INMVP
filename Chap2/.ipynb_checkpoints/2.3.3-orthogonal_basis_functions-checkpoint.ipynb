{
 "cells": [
  {
   "cell_type": "code",
   "execution_count": 16,
   "id": "3ccb5458-c423-4160-866d-9d88aa320f01",
   "metadata": {},
   "outputs": [],
   "source": [
    "import sympy as sym \n",
    "import numpy as np \n",
    "import mpmath\n",
    "import matplotlib.pyplot as plt"
   ]
  },
  {
   "cell_type": "markdown",
   "id": "54df7dba-d39c-4620-8bf0-5dcf0d762a80",
   "metadata": {},
   "source": [
    "# Orthogonal Basis Functions"
   ]
  },
  {
   "cell_type": "markdown",
   "id": "5d40347b-f8d0-4345-86fb-1073dd03552a",
   "metadata": {},
   "source": [
    "Sine functions $\\psi_i(x) = \\sin((i+1)\\pi x)$ on $\\Omega = [0,1]$ are orthogonal basis functions, has following properties,\n",
    "\n",
    "$$\\int_0^1 \\psi_i(x)\\psi_j(x) \\mathrm{d}x = 0, i \\neq j $$\n",
    "\n",
    "Therefore, choosing such basis allows us simplify the least square algorithms, since the off-diagonal components of $A$ are $0$s."
   ]
  },
  {
   "cell_type": "code",
   "execution_count": 10,
   "id": "90d05dec-c284-4630-b803-94f26ffc73f7",
   "metadata": {},
   "outputs": [],
   "source": [
    "def least_squares_orth_numeric(f, psi, Omega):\n",
    "    N = len(psi)\n",
    "    A = sym.zeros(N, 1)\n",
    "    b = sym.zeros(N, 1)\n",
    "    x = sym.Symbol('x')\n",
    "\n",
    "    # construct A, b\n",
    "    # ! the loop below can be optimized, since A[i,j] = A[j,i]\n",
    "    for i in range(N):\n",
    "        integrate = sym.lambdify(x, psi[i]**2, 'mpmath')\n",
    "        A[i] = mpmath.quad(integrate, [Omega[0], Omega[1]])\n",
    "\n",
    "        integrate = sym.lambdify(x, psi[i]*f, 'mpmath')\n",
    "        b[i,0] =  mpmath.quad(integrate, [Omega[0], Omega[1]])\n",
    "\n",
    "    # solve Ac = b\n",
    "    c = mpmath.lu_solve(A,b)\n",
    "    u = 0\n",
    "    for i in range(N):\n",
    "        u += c[i,0]*psi[i]\n",
    "    return u, c"
   ]
  },
  {
   "cell_type": "code",
   "execution_count": 13,
   "id": "a5dba00c-8a56-4972-a801-d14040d1c746",
   "metadata": {},
   "outputs": [
    {
     "ename": "NameError",
     "evalue": "name 'sym' is not defined",
     "output_type": "error",
     "traceback": [
      "\u001b[0;31m---------------------------------------------------------------------------\u001b[0m",
      "\u001b[0;31mNameError\u001b[0m                                 Traceback (most recent call last)",
      "Cell \u001b[0;32mIn[13], line 1\u001b[0m\n\u001b[0;32m----> 1\u001b[0m x \u001b[38;5;241m=\u001b[39m sym\u001b[38;5;241m.\u001b[39mSymbol(\u001b[38;5;124m'\u001b[39m\u001b[38;5;124mx\u001b[39m\u001b[38;5;124m'\u001b[39m)\n\u001b[1;32m      2\u001b[0m f \u001b[38;5;241m=\u001b[39m \u001b[38;5;241m10\u001b[39m\u001b[38;5;241m*\u001b[39m(x\u001b[38;5;241m-\u001b[39m\u001b[38;5;241m1\u001b[39m)\u001b[38;5;241m*\u001b[39m\u001b[38;5;241m*\u001b[39m\u001b[38;5;241m2\u001b[39m \u001b[38;5;241m-\u001b[39m \u001b[38;5;241m1\u001b[39m\n\u001b[1;32m      3\u001b[0m f0 \u001b[38;5;241m=\u001b[39m \u001b[38;5;241m9\u001b[39m\n",
      "\u001b[0;31mNameError\u001b[0m: name 'sym' is not defined"
     ]
    }
   ],
   "source": [
    "x = sym.Symbol('x')\n",
    "f = 10*(x-1)**2 - 1\n",
    "f0 = 9\n",
    "f1 = -1\n",
    "B = f0*(1-x) + x*f1\n",
    "Omega = [0, 1]\n",
    "\n",
    "f_sym = sym.lambdify(x, f, 'numpy')\n",
    "resolution = 401\n",
    "xcoor = np.linspace(Omega[0], Omega[1], resolution)\n",
    "exact = f_sym(xcoor)\n",
    "plt.plot(xcoor, exact, '-r', label='exact')\n",
    "N = 5\n",
    "\n",
    "psi = []\n",
    "for n in range(N):\n",
    "    psi.append(sym.sin(sym.pi * (n+1) * x))\n",
    "    u, c = least_squares_orth_numeric(f=f-B, psi=psi, Omega=Omega)\n",
    "    u_sym = sym.lambdify(x, u+B, modules='numpy')\n",
    "    approx = u_sym(xcoor)    \n",
    "    plt.plot(xcoor, approx, label='m={:}'.format(n))\n",
    "plt.legend()"
   ]
  },
  {
   "cell_type": "code",
   "execution_count": null,
   "id": "2a8baf87-c30a-4096-b9ba-b357c9640555",
   "metadata": {},
   "outputs": [],
   "source": []
  }
 ],
 "metadata": {
  "kernelspec": {
   "display_name": "Python 3 (ipykernel)",
   "language": "python",
   "name": "python3"
  },
  "language_info": {
   "codemirror_mode": {
    "name": "ipython",
    "version": 3
   },
   "file_extension": ".py",
   "mimetype": "text/x-python",
   "name": "python",
   "nbconvert_exporter": "python",
   "pygments_lexer": "ipython3",
   "version": "3.11.5"
  }
 },
 "nbformat": 4,
 "nbformat_minor": 5
}
