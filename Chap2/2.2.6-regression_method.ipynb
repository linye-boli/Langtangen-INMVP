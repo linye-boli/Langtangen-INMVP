{
 "cells": [
  {
   "cell_type": "markdown",
   "id": "e4ee4ddb-cd43-4afa-abe9-c073e61e2461",
   "metadata": {},
   "source": [
    "# Linear Approximation\n",
    "\n",
    "approximate $f(x) = 10(x-1)^2 - 1, x\\in[1,2]$ by $u(x) \\in V$, where $V=\\text{span} \\{1, x\\}$. Specifically, $u(x) = c_0 \\psi_0(x) + c_1 \\psi_1(x)$, where $\\psi_0(x) = 1$ and $\\psi_1(x)=x$."
   ]
  },
  {
   "cell_type": "markdown",
   "id": "993338a0-7dea-47b4-9d34-2d79086ee029",
   "metadata": {},
   "source": [
    "## Least square method \n",
    "\n",
    "- express $u(x) = \\sum_{i=0}^{N} c_i \\psi_i(x)$, where $N$ is the number of basis functions\n",
    "- solve $\\{c_i\\}_{i=0}^{N}$ by minimizing $E = \\|f-u\\|^2 = (f-u, f-u)$ through setting $\\frac{\\partial E}{\\partial c_i} = 0$\n",
    "\n",
    "Finally we get following\n",
    "\n",
    "$$ \\sum_{j=0}^{N}c_i(\\psi_j, \\psi_i) = (f, \\psi_i)$$\n",
    "\n",
    "if we denotes $A_{i,j}=(\\psi_i, \\psi_j)$, and $b_i=(f, \\psi_i)$, then we get the following linear system\n",
    "\n",
    "$$\n",
    "\\begin{bmatrix}\n",
    "A_{0,0} & \\cdots & A_{0,N} \\\\\n",
    "\\vdots & \\ddots & \\vdots \\\\\n",
    "A_{N,0} & \\cdots & A_{N,N} \\\\\n",
    "\\end{bmatrix} \n",
    "\\begin{bmatrix}\n",
    "c_{0} \\\\\n",
    "\\vdots \\\\\n",
    "c_{N} \\\\\n",
    "\\end{bmatrix} = \n",
    "\\begin{bmatrix}\n",
    "b_{0} \\\\\n",
    "\\vdots \\\\\n",
    "b_{N} \\\\\n",
    "\\end{bmatrix}\n",
    "$$"
   ]
  },
  {
   "cell_type": "markdown",
   "id": "8094c901-e9e0-457b-be72-50471703c642",
   "metadata": {},
   "source": [
    "## Regression method \n",
    "\n",
    "In many applications, we only know $\\{f(x_1), \\cdots, f(x_m) \\}$, where $m$ is the number of sample points, usually $m \\gg N$. In this condition, we can approxiamte $f$ as follows\n",
    "\n",
    "- express $u(x_i) = \\sum_{j=0}^{N} c_j \\psi_j(x_i) = f(x_i), i = 0, 1, \\cdots, m$, which can be written in matrix form as $Ac = b$, where $A_{i,j} = \\psi_j(x_i), b_i=f(x_i)$.\n",
    "- solve $c$ by minimizing the squared Euclidean norm of residual $\\|r\\|^2 = \\| b - Ac \\|^2 = \\sum_{i}(b_i - \\sum_j A_{i,j} c_j)^2$. Setting $\\frac{\\partial \\|r\\|^2}{\\partial c_k} = 0, k=0, \\cdots, N.$\n",
    "\n",
    "Finally we get the following matrix form, \n",
    "$$A^T A c = A^T b$$\n",
    "If we denote $B = A^T A$ and $d = A^T b$, we have \n",
    "$$B_{ij} = \\sum_{k} A^T_{i,k} A_{k,j} = \\sum_{k} A_{k,i} A_{k,j} = \\sum_{k=0}^m \\psi_i(x_k) \\psi_j(x_k)$$\n",
    "$$d_{i} = \\sum_{k} A^T_{i,k} b_{k} = \\sum_{k} A_{k,i} b_{k} = \\sum_{k=0}^m \\psi_i(x_k) f(x_k)$$\n",
    "then we can obtain $c$ by solve linear system $Bc = d$"
   ]
  },
  {
   "cell_type": "code",
   "execution_count": 4,
   "id": "caa5d9b1-a5f0-44d6-a480-c6c544f683d5",
   "metadata": {},
   "outputs": [],
   "source": [
    "import sympy as sym \n",
    "import numpy as np\n",
    "import matplotlib.pyplot as plt"
   ]
  },
  {
   "cell_type": "code",
   "execution_count": 5,
   "id": "3f9daf98-ef1c-498c-966d-fef87f4eea59",
   "metadata": {},
   "outputs": [],
   "source": [
    "def regression(f, psi, points):\n",
    "    N = len(psi)\n",
    "    m = len(points)\n",
    "\n",
    "    # init B, d\n",
    "    B = np.zeros((N, N))\n",
    "    d = np.zeros(N)\n",
    "\n",
    "    # wrap psi, f to python function\n",
    "    x = sym.Symbol('x')\n",
    "    psi_sym = psi\n",
    "    psi = [sym.lambdify(x, psi[i]) for i in range(N)]\n",
    "    f = sym.lambdify(x, f)\n",
    "\n",
    "    for i in range(N):\n",
    "        for j in range(N):\n",
    "            \n",
    "            for k in range(m):\n",
    "                B[i,j] += psi[i](points[k]) * psi[j](points[k])\n",
    "\n",
    "        for k in range(m):\n",
    "            d[i] += psi[i](points[k]) * f(points[k])\n",
    "\n",
    "    c = np.linalg.solve(B, d)\n",
    "    u = 0\n",
    "    for i in range(N):\n",
    "        u += c[i]*psi_sym[i]\n",
    "    return u, c"
   ]
  },
  {
   "cell_type": "code",
   "execution_count": 19,
   "id": "c1b27785-bc97-4246-93f3-6f6c0f69440c",
   "metadata": {},
   "outputs": [
    {
     "name": "stdout",
     "output_type": "stream",
     "text": [
      "exact 10*x**2 - 20*x + 9\n",
      "2 3.88429752066115*x**2 - 1.65289256198347*x - 3.23140495867769\n",
      "8 9.99999999999994*x**2 - 19.9999999999998*x + 8.99999999999978\n",
      "16 9.99999999999735*x**2 - 19.999999999992*x + 8.99999999999423\n"
     ]
    },
    {
     "data": {
      "text/plain": [
       "<matplotlib.legend.Legend at 0x16787c990>"
      ]
     },
     "execution_count": 19,
     "metadata": {},
     "output_type": "execute_result"
    },
    {
     "data": {
      "image/png": "[encoded data removed]",
      "text/plain": [
       "<Figure size 640x480 with 1 Axes>"
      ]
     },
     "metadata": {},
     "output_type": "display_data"
    }
   ],
   "source": [
    "x = sym.Symbol('x')\n",
    "f = 10*(x-1)**2 - 1\n",
    "print('exact', sym.expand(f))\n",
    "psi = [1, x, x**2]\n",
    "Omega = [1, 2]\n",
    "\n",
    "f_sym = sym.lambdify(x, f, 'numpy')\n",
    "resolution = 401\n",
    "xcoor = np.linspace(Omega[0], Omega[1], resolution)\n",
    "exact = f_sym(xcoor)\n",
    "plt.plot(xcoor, exact, '-r', label='exact')\n",
    "\n",
    "for m in [2, 8, 16]:\n",
    "    points = np.linspace(Omega[0], Omega[1], m)\n",
    "    u, c = regression(f, psi, points)\n",
    "    print(m, u)\n",
    "    u_sym = sym.lambdify(x, u, modules='numpy')\n",
    "    approx = u_sym(xcoor)    \n",
    "    plt.plot(xcoor, approx, label='m={:}'.format(m))\n",
    "plt.legend()"
   ]
  },
  {
   "cell_type": "code",
   "execution_count": null,
   "id": "1324a185-b5da-4306-bf61-85834083c4df",
   "metadata": {},
   "outputs": [],
   "source": []
  }
 ],
 "metadata": {
  "kernelspec": {
   "display_name": "Python 3 (ipykernel)",
   "language": "python",
   "name": "python3"
  },
  "language_info": {
   "codemirror_mode": {
    "name": "ipython",
    "version": 3
   },
   "file_extension": ".py",
   "mimetype": "text/x-python",
   "name": "python",
   "nbconvert_exporter": "python",
   "pygments_lexer": "ipython3",
   "version": "3.11.5"
  }
 },
 "nbformat": 4,
 "nbformat_minor": 5
}
